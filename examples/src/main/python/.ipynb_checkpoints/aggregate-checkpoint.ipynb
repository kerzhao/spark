{
 "cells": [
  {
   "cell_type": "markdown",
   "metadata": {},
   "source": [
    "## 理解Spark RDD中的aggregate函数"
   ]
  },
  {
   "cell_type": "code",
   "execution_count": 1,
   "metadata": {
    "collapsed": false
   },
   "outputs": [
    {
     "data": {
      "text/plain": [
       "(10, 4)"
      ]
     },
     "execution_count": 1,
     "metadata": {},
     "output_type": "execute_result"
    }
   ],
   "source": [
    "seqOp = (lambda x, y: (x[0] + y, x[1] + 1))\n",
    "combOp = (lambda x, y: (x[0] + y[0], x[1] + y[1]))\n",
    "sc.parallelize([1, 2, 3, 4]).aggregate((0, 0), seqOp, combOp)"
   ]
  },
  {
   "cell_type": "markdown",
   "metadata": {},
   "source": [
    "<td>            (0, 0) <-- zeroValue</td>\n",
    "<td></td>\n",
    "<td>[1, 2]                  [3, 4]</td>\n",
    "<td></td>\n",
    "<td>0 + 1 = 1               0 + 3 = 3</td>\n",
    "<td>0 + 1 = 1               0 + 1 = 1\n",
    "<td>\n",
    "<td>1 + 2 = 3               3 + 4 = 7\n",
    "<td>1 + 1 = 2               1 + 1 = 2       \n",
    "<td>    |                    |\n",
    "<td>    v                    v\n",
    "<td>  (3, 2)                  (7, 2)\n",
    "<td>      \\                    / \n",
    "<td>       \\                  /\n",
    "<td>        \\                /\n",
    "<td>         \\              /\n",
    "<td>          \\            /\n",
    "<td>           \\          / \n",
    "<td>           ------------\n",
    "<td>           |  combOp  |\n",
    "<td>           ------------\n",
    "<td>                |\n",
    "<td>                v\n",
    "<td>             (10, 4)"
   ]
  },
  {
   "cell_type": "markdown",
   "metadata": {},
   "source": [
    "若zeroValue不为(0, 0)时，实测结果和预期结果不一致。"
   ]
  },
  {
   "cell_type": "code",
   "execution_count": null,
   "metadata": {
    "collapsed": true
   },
   "outputs": [],
   "source": []
  }
 ],
 "metadata": {
  "kernelspec": {
   "display_name": "Python 2",
   "language": "python",
   "name": "python2"
  },
  "language_info": {
   "codemirror_mode": {
    "name": "ipython",
    "version": 2
   },
   "file_extension": ".py",
   "mimetype": "text/x-python",
   "name": "python",
   "nbconvert_exporter": "python",
   "pygments_lexer": "ipython2",
   "version": "2.7.13"
  }
 },
 "nbformat": 4,
 "nbformat_minor": 2
}
